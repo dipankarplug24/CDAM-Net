{
  "nbformat": 4,
  "nbformat_minor": 0,
  "metadata": {
    "colab": {
      "provenance": []
    },
    "kernelspec": {
      "name": "python3",
      "display_name": "Python 3"
    },
    "language_info": {
      "name": "python"
    }
  },
  "cells": [
    {
      "cell_type": "code",
      "execution_count": null,
      "metadata": {
        "id": "uUY7f7pAdI0o"
      },
      "outputs": [],
      "source": [
        "import keras\n",
        "import tensorflow as tf\n",
        "from tensorflow import keras\n",
        "from keras.models import Sequential\n",
        "from keras.layers import Conv2D, MaxPooling2D\n",
        "from keras.layers import Activation, MaxPool2D\n",
        "from keras.layers.core import Lambda\n",
        "from keras.preprocessing import image\n",
        "from tensorflow.keras import datasets, layers, models, losses\n",
        "from tensorflow.keras.models import Model, Sequential\n",
        "import numpy as np\n",
        "import pandas as pd\n",
        "import matplotlib.pyplot as plt\n",
        "from tqdm import tqdm\n",
        "%matplotlib inline\n",
        "from keras.callbacks import ModelCheckpoint, ReduceLROnPlateau\n",
        "from keras.preprocessing.image import ImageDataGenerator\n",
        "from keras.optimizers import *\n",
        "from keras.models import load_model\n",
        "from keras.layers.core import Lambda\n",
        "import os\n",
        "from keras.layers import *\n",
        "from sklearn.model_selection import KFold, StratifiedKFold\n",
        "from keras.backend import int_shape\n",
        "from keras.layers import GlobalAveragePooling2D, GlobalMaxPooling2D, Reshape, Dense, multiply, Permute, Concatenate, Add, Activation, Lambda, Average\n",
        "from keras import backend as K\n",
        "from keras.activations import sigmoid\n",
        "from keras.backend import sigmoid\n",
        "from keras.utils.generic_utils import get_custom_objects\n",
        "from keras.layers import Activation\n",
        "from tensorflow.python.ops.gen_math_ops import mul\n",
        "from sklearn.metrics import classification_report, confusion_matrix\n",
        "import seaborn as sn"
      ]
    },
    {
      "cell_type": "code",
      "source": [
        "train_data = ImageDataGenerator(rescale=1./255, rotation_range = 10,\n",
        "                                   width_shift_range = 0.2,\n",
        "                                   height_shift_range = 0.2,\n",
        "                                   horizontal_flip = True )\n",
        "train_data = train_data.flow_from_directory('gluacoma_dataset/train',\n",
        "                                                 target_size = (224, 224),\n",
        "                                                 batch_size = 16,\n",
        "                                                 class_mode = 'categorical')\n",
        "test_data = ImageDataGenerator(rescale=1./255)\n",
        "test_data = test_data.flow_from_directory('gluacoma_dataset/test',\n",
        "                                            target_size = (224, 224),\n",
        "                                            batch_size = 16,\n",
        "                                            shuffle = False,\n",
        "                                            class_mode = 'categorical')"
      ],
      "metadata": {
        "id": "117us0WVdQTN"
      },
      "execution_count": null,
      "outputs": []
    },
    {
      "cell_type": "code",
      "source": [
        "def swish(x, beta = 1):\n",
        "    return(x * sigmoid(beta * x))\n",
        "get_custom_objects().update({'swish': Activation(swish)})"
      ],
      "metadata": {
        "id": "jr6GDk4odVb9"
      },
      "execution_count": null,
      "outputs": []
    },
    {
      "cell_type": "code",
      "source": [
        "def channel_shuffle(x, groups):  \n",
        "    _, width, height, channels = x.get_shape().as_list()\n",
        "    group_ch = channels // groups\n",
        " \n",
        "    x = Reshape([width, height, group_ch, groups])(x)\n",
        "    x = Permute([1, 2, 4, 3])(x)\n",
        "    x = Reshape([width, height, channels])(x)\n",
        "    return x"
      ],
      "metadata": {
        "id": "B0J3rHiWddOK"
      },
      "execution_count": null,
      "outputs": []
    },
    {
      "cell_type": "code",
      "source": [
        "def conv_module(x,k):\n",
        "    a=Conv2D(k,(1,1),padding='same')(x)\n",
        "    a=BatchNormalization()(a)\n",
        "    a=Activation('swish')(a)\n",
        "\n",
        "    y=Conv2D(k//2,(3,3),padding='same')(x)\n",
        "    y=BatchNormalization()(y)\n",
        "    y=Activation('swish')(y)\n",
        "    y=Conv2D(k//2,(3,3),padding='same')(y)\n",
        "    y=BatchNormalization()(y)\n",
        "    y=Activation('swish')(y)\n",
        "\n",
        "    z=Conv2D(k,(3,3),padding='same')(x)\n",
        "    z=BatchNormalization()(z)\n",
        "    z=Activation('swish')(z)\n",
        "    c=tf.keras.layers.Concatenate()([y,z])\n",
        "\n",
        "    d=DepthwiseConv2D(3,padding='same')(c)\n",
        "    d=BatchNormalization()(d)\n",
        "    d=Activation('swish')(d)\n",
        "    x=tf.keras.layers.Concatenate()([d,c])\n",
        "    x=tf.keras.layers.Concatenate()([x,a])\n",
        "    x=Conv2D(k,(1,1),padding='same')(x)\n",
        "    x=BatchNormalization()(x)\n",
        "    x=Activation('swish')(x)\n",
        "\n",
        "    return x"
      ],
      "metadata": {
        "id": "ioRXhZ2Bdh-e"
      },
      "execution_count": null,
      "outputs": []
    },
    {
      "cell_type": "code",
      "source": [
        "def CSDA(inputs):\n",
        "    shape=K.int_shape(inputs)\n",
        "    x=MaxPooling2D(pool_size=(shape[1],shape[2])) (inputs)\n",
        "    x=Conv2D(shape[3]//4,1, padding='same') (x)\n",
        "    x=Activation('swish') (x)\n",
        "    x=Conv2D(shape[3],1, padding='same') (x)\n",
        "    x=Activation('sigmoid') (x)\n",
        "    y=AveragePooling2D(pool_size=(shape[1],shape[2])) (inputs)\n",
        "    y=Conv2D(shape[3]//4,1, padding='same') (y)\n",
        "    y=Activation('swish') (x)\n",
        "    y=Conv2D(shape[3],1, padding='same') (y)\n",
        "    y=Activation('sigmoid') (y)\n",
        "    z=tf.keras.layers.Average()([x,y])\n",
        "    C_A=tf.math.multiply(z,inputs)\n",
        "    \n",
        "    a=Lambda(lambda x: K.max(x,axis=3,keepdims=True))  (inputs)\n",
        "    a=Conv2D(shape[3] // shape[3],1, padding='same') (a)\n",
        "    a=Activation('sigmoid') (a)\n",
        "    b=Lambda(lambda x: K.mean(x,axis=3,keepdims=True))  (inputs)\n",
        "    b=Conv2D(shape[3] // shape[3],1, padding='same') (a)\n",
        "    b=Activation('sigmoid') (a)\n",
        "    c=tf.keras.layers.Average()([a,b])\n",
        "    S_A=tf.math.multiply(c,inputs)\n",
        "    v=tf.keras.layers.Add()([C_A,S_A])\n",
        "    d=channel_shuffle(inputs, 8)\n",
        "    x=tf.keras.layers.Add()([v,d])\n",
        "    return x"
      ],
      "metadata": {
        "id": "8MVd-B36doIK"
      },
      "execution_count": null,
      "outputs": []
    },
    {
      "cell_type": "code",
      "source": [
        "def get_base_model():\n",
        "  input_shape = (224,224,3)\n",
        "  inputs = Input(shape=(224,224,3))\n",
        "  x=Conv2D(32,3, padding='same') (inputs)\n",
        "  x=BatchNormalization()(x)\n",
        "  x=Activation('swish')(x)\n",
        "  x=MaxPooling2D()(x)\n",
        "  x=conv_module(x,64)\n",
        "  x=MaxPooling2D()(x)\n",
        "  x=CSDA(x)\n",
        "  x=conv_module(x,128)\n",
        "  x=MaxPooling2D()(x)\n",
        "  x=CSDA(x)\n",
        "  x=conv_module(x,256)\n",
        "  x=MaxPooling2D()(x)\n",
        "  x=CSDA(x)\n",
        "  x=Conv2D(256,3, padding='same') (x)\n",
        "  x=BatchNormalization()(x)\n",
        "  x=Activation('swish')(x)\n",
        "  x=MaxPooling2D()(x)\n",
        "  x=CSDA(x)\n",
        "  x=GlobalAveragePooling2D()(x)\n",
        "  x=Dense(2,activation='softmax')(x)\n",
        "  model=Model(inputs, x)\n",
        "  return model"
      ],
      "metadata": {
        "id": "fIyMG6L9dwyP"
      },
      "execution_count": null,
      "outputs": []
    },
    {
      "cell_type": "code",
      "source": [
        "model=get_base_model()  \n",
        "model.compile(optimizer='adam',loss='categorical_crossentropy',metrics=\"acc\")\n",
        "model.summary()"
      ],
      "metadata": {
        "id": "uVcmi_LJd-v9"
      },
      "execution_count": null,
      "outputs": []
    },
    {
      "cell_type": "code",
      "source": [
        "reduce_lr=ReduceLROnPlateau(monitor='loss', factor=0.4,patience=5, min_lr=0.00001)\n",
        "filepath = \"CDAM_Net.hdf5\"\n",
        "checkpoint = ModelCheckpoint(filepath, monitor='acc', verbose=1, save_best_only=True, mode='max')\n",
        "callbacks_list = [reduce_lr, checkpoint]\n",
        "history = model.fit(train_data,epochs=1,batch_size=16,callbacks=callbacks_list)\n",
        "results = model.evaluate(test_data, batch_size=16)\n",
        "Y_pred = model.predict(test_data, 428 // 17)\n",
        "print(test_data.classes)  \n",
        "print(Y_pred)\n",
        "y_pred = np.argmax(Y_pred, axis=1)\n",
        "true_classes = test_data.classes\n",
        "class_labels = list(test_data.class_indices.keys())\n",
        "print('Confusion Matrix')\n",
        "matrix = confusion_matrix(test_data.classes, y_pred)\n",
        "plt.figure(figsize = (10,7))\n",
        "names = [\"Glaucoma\", \"Normal\"]\n",
        "group_counts = [\"{0:0.0f}\".format(value) for value in\n",
        "                matrix.flatten()]\n",
        "labels = [f\"{v1}\" for v1 in group_counts]\n",
        "labels = np.asarray(labels).reshape(2,2)\n",
        "sn.set(font_scale=2)\n",
        "sn.heatmap(matrix, annot=labels, fmt='', xticklabels= names, yticklabels= names, annot_kws={\"size\": 19}, cmap='Blues')\n",
        "plt.yticks(rotation=90)\n",
        "plt.xlabel(\"Predicted labels\")\n",
        "plt.ylabel(\"True labels\")\n",
        "plt.title('Confusion Matrix ')\n",
        "plt.savefig('confusioncdam.png',dpi=1080)\n",
        "plt.show()\n",
        "print('Classification Report')\n",
        "target_names = ['Glaucoma', 'Normal']\n",
        "print(classification_report(test_data.classes, y_pred, target_names=target_names))"
      ],
      "metadata": {
        "id": "FqC5-UTKeE1q"
      },
      "execution_count": null,
      "outputs": []
    }
  ]
}